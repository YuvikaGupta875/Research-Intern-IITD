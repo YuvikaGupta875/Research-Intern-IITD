{
  "cells": [
    {
      "cell_type": "code",
      "execution_count": null,
      "id": "226a3057",
      "metadata": {
        "id": "226a3057"
      },
      "outputs": [],
      "source": [
        "!pip install -q tensorflow xarray netCDF4 pandas scipy scikit-learn xgboost"
      ]
    },
    {
      "cell_type": "code",
      "execution_count": null,
      "id": "589ef383",
      "metadata": {
        "id": "589ef383",
        "colab": {
          "base_uri": "https://localhost:8080/"
        },
        "outputId": "211861dd-213c-42f4-c46d-a7eccca17e69"
      },
      "outputs": [
        {
          "output_type": "stream",
          "name": "stdout",
          "text": [
            "Mounted at /content/drive\n"
          ]
        }
      ],
      "source": [
        "from google.colab import drive\n",
        "drive.mount('/content/drive')"
      ]
    },
    {
      "cell_type": "code",
      "execution_count": null,
      "id": "64b1aae4",
      "metadata": {
        "colab": {
          "base_uri": "https://localhost:8080/"
        },
        "id": "64b1aae4",
        "outputId": "42371614-a329-4a04-92b5-dad1f7794efd"
      },
      "outputs": [
        {
          "output_type": "stream",
          "name": "stdout",
          "text": [
            "\n",
            "UNRAR 6.11 beta 1 freeware      Copyright (c) 1993-2022 Alexander Roshal\n",
            "\n",
            "\n",
            "Extracting from /content/drive/MyDrive/Dataset.rar\n",
            "\n",
            "Creating    /content/Dataset                                          OK\n",
            "Creating    /content/Dataset/Dataset                                  OK\n",
            "Creating    /content/Dataset/Dataset/daily_mslp                       OK\n",
            "Extracting  /content/Dataset/Dataset/daily_mslp/daily_mslp_1979.nc       \b\b\b\b  0%\b\b\b\b  1%\b\b\b\b  2%\b\b\b\b\b  OK \n",
            "Extracting  /content/Dataset/Dataset/daily_mslp/daily_mslp_1980.nc       \b\b\b\b  3%\b\b\b\b  4%\b\b\b\b  5%\b\b\b\b\b  OK \n",
            "Extracting  /content/Dataset/Dataset/daily_mslp/daily_mslp_1981.nc       \b\b\b\b  6%\b\b\b\b  7%\b\b\b\b  8%\b\b\b\b\b  OK \n",
            "Extracting  /content/Dataset/Dataset/daily_mslp/daily_mslp_1982.nc       \b\b\b\b  9%\b\b\b\b 10%\b\b\b\b 11%\b\b\b\b\b  OK \n",
            "Extracting  /content/Dataset/Dataset/daily_mslp/daily_mslp_1983.nc       \b\b\b\b 12%\b\b\b\b 13%\b\b\b\b\b  OK \n",
            "Extracting  /content/Dataset/Dataset/daily_mslp/daily_mslp_1984.nc       \b\b\b\b 14%\b\b\b\b 15%\b\b\b\b 16%\b\b\b\b\b  OK \n",
            "Extracting  /content/Dataset/Dataset/daily_mslp/daily_mslp_1985.nc       \b\b\b\b 17%\b\b\b\b 18%\b\b\b\b 19%\b\b\b\b\b  OK \n",
            "Extracting  /content/Dataset/Dataset/daily_mslp/daily_mslp_1986.nc       \b\b\b\b 20%\b\b\b\b 21%\b\b\b\b 22%\b\b\b\b\b  OK \n",
            "Extracting  /content/Dataset/Dataset/daily_mslp/daily_mslp_1987.nc       \b\b\b\b 23%\b\b\b\b 24%\b\b\b\b 25%\b\b\b\b\b  OK \n",
            "Extracting  /content/Dataset/Dataset/daily_mslp/daily_mslp_1988.nc       \b\b\b\b 25%\b\b\b\b 26%\b\b\b\b 27%\b\b\b\b\b  OK \n",
            "Extracting  /content/Dataset/Dataset/daily_mslp/daily_mslp_1989.nc       \b\b\b\b 28%\b\b\b\b 29%\b\b\b\b 30%\b\b\b\b\b  OK \n",
            "Extracting  /content/Dataset/Dataset/daily_mslp/daily_mslp_1990.nc       \b\b\b\b 31%\b\b\b\b 32%\b\b\b\b 33%\b\b\b\b\b  OK \n",
            "Extracting  /content/Dataset/Dataset/daily_mslp/daily_mslp_1991.nc       \b\b\b\b 34%\b\b\b\b 35%\b\b\b\b 36%\b\b\b\b\b  OK \n",
            "Extracting  /content/Dataset/Dataset/daily_mslp/daily_mslp_1992.nc       \b\b\b\b 37%\b\b\b\b 38%\b\b\b\b\b  OK \n",
            "Extracting  /content/Dataset/Dataset/daily_mslp/daily_mslp_1993.nc       \b\b\b\b 39%\b\b\b\b 40%\b\b\b\b 41%\b\b\b\b\b  OK \n",
            "Extracting  /content/Dataset/Dataset/daily_mslp/daily_mslp_1994.nc       \b\b\b\b 42%\b\b\b\b 43%\b\b\b\b 44%\b\b\b\b\b  OK \n",
            "Extracting  /content/Dataset/Dataset/daily_mslp/daily_mslp_1995.nc       \b\b\b\b 45%\b\b\b\b 46%\b\b\b\b 47%\b\b\b\b\b  OK \n",
            "Extracting  /content/Dataset/Dataset/daily_mslp/daily_mslp_1996.nc       \b\b\b\b 48%\b\b\b\b 49%\b\b\b\b\b  OK \n",
            "Extracting  /content/Dataset/Dataset/daily_mslp/daily_mslp_1997.nc       \b\b\b\b 50%\b\b\b\b 51%\b\b\b\b 52%\b\b\b\b\b  OK \n",
            "Extracting  /content/Dataset/Dataset/daily_mslp/daily_mslp_1998.nc       \b\b\b\b 53%\b\b\b\b 54%\b\b\b\b 55%\b\b\b\b\b  OK \n",
            "Extracting  /content/Dataset/Dataset/daily_mslp/daily_mslp_1999.nc       \b\b\b\b 56%\b\b\b\b 57%\b\b\b\b 58%\b\b\b\b\b  OK \n",
            "Extracting  /content/Dataset/Dataset/daily_mslp/daily_mslp_2000.nc       \b\b\b\b 59%\b\b\b\b 60%\b\b\b\b 61%\b\b\b\b\b  OK \n",
            "Extracting  /content/Dataset/Dataset/daily_mslp/daily_mslp_2001.nc       \b\b\b\b 61%\b\b\b\b 62%\b\b\b\b 63%\b\b\b\b\b  OK \n",
            "Extracting  /content/Dataset/Dataset/daily_mslp/daily_mslp_2002.nc       \b\b\b\b 64%\b\b\b\b 65%\b\b\b\b 66%\b\b\b\b\b  OK \n",
            "Extracting  /content/Dataset/Dataset/daily_mslp/daily_mslp_2003.nc       \b\b\b\b 67%\b\b\b\b 68%\b\b\b\b 69%\b\b\b\b\b  OK \n",
            "Extracting  /content/Dataset/Dataset/daily_mslp/daily_mslp_2004.nc       \b\b\b\b 70%\b\b\b\b 71%\b\b\b\b 72%\b\b\b\b\b  OK \n",
            "Extracting  /content/Dataset/Dataset/daily_mslp/daily_mslp_2005.nc       \b\b\b\b 73%\b\b\b\b 74%\b\b\b\b\b  OK \n",
            "Extracting  /content/Dataset/Dataset/daily_mslp/daily_mslp_2006.nc       \b\b\b\b 75%\b\b\b\b 76%\b\b\b\b 77%\b\b\b\b\b  OK \n",
            "Extracting  /content/Dataset/Dataset/daily_mslp/daily_mslp_2007.nc       \b\b\b\b 78%\b\b\b\b 79%\b\b\b\b 80%\b\b\b\b\b  OK \n",
            "Extracting  /content/Dataset/Dataset/daily_mslp/daily_mslp_2008.nc       \b\b\b\b 81%\b\b\b\b 82%\b\b\b\b 83%\b\b\b\b\b  OK \n",
            "Extracting  /content/Dataset/Dataset/daily_mslp/daily_mslp_2009.nc       \b\b\b\b 84%\b\b\b\b 85%\b\b\b\b 86%\b\b\b\b\b  OK \n",
            "Extracting  /content/Dataset/Dataset/daily_mslp/daily_mslp_2010.nc       \b\b\b\b 86%\b\b\b\b 87%\b\b\b\b 88%\b\b\b\b\b  OK \n",
            "Extracting  /content/Dataset/Dataset/daily_mslp/daily_mslp_2011.nc       \b\b\b\b 89%\b\b\b\b 90%\b\b\b\b 91%\b\b\b\b\b  OK \n",
            "Extracting  /content/Dataset/Dataset/daily_mslp/daily_mslp_2012.nc       \b\b\b\b 92%\b\b\b\b 93%\b\b\b\b 94%\b\b\b\b\b  OK \n",
            "Extracting  /content/Dataset/Dataset/daily_mslp/daily_mslp_2013.nc       \b\b\b\b 95%\b\b\b\b 96%\b\b\b\b 97%\b\b\b\b\b  OK \n",
            "Extracting  /content/Dataset/Dataset/daily_mslp/daily_mslp_2014.nc       \b\b\b\b 98%\b\b\b\b 99%\b\b\b\b\b  OK \n",
            "Creating    /content/Dataset/Dataset/lps_era5_data                    OK\n",
            "Extracting  /content/Dataset/Dataset/lps_era5_data/1979_JJAS_cyc_tracks_filt_3days_int.txt     \b\b\b\b 99%\b\b\b\b\b  OK \n",
            "Extracting  /content/Dataset/Dataset/lps_era5_data/1980_JJAS_cyc_tracks_filt_3days_int.txt     \b\b\b\b 99%\b\b\b\b\b  OK \n",
            "Extracting  /content/Dataset/Dataset/lps_era5_data/1981_JJAS_cyc_tracks_filt_3days_int.txt     \b\b\b\b 99%\b\b\b\b\b  OK \n",
            "Extracting  /content/Dataset/Dataset/lps_era5_data/1982_JJAS_cyc_tracks_filt_3days_int.txt     \b\b\b\b 99%\b\b\b\b\b  OK \n",
            "Extracting  /content/Dataset/Dataset/lps_era5_data/1983_JJAS_cyc_tracks_filt_3days_int.txt     \b\b\b\b 99%\b\b\b\b\b  OK \n",
            "Extracting  /content/Dataset/Dataset/lps_era5_data/1984_JJAS_cyc_tracks_filt_3days_int.txt     \b\b\b\b 99%\b\b\b\b\b  OK \n",
            "Extracting  /content/Dataset/Dataset/lps_era5_data/1985_JJAS_cyc_tracks_filt_3days_int.txt     \b\b\b\b 99%\b\b\b\b\b  OK \n",
            "Extracting  /content/Dataset/Dataset/lps_era5_data/1986_JJAS_cyc_tracks_filt_3days_int.txt     \b\b\b\b 99%\b\b\b\b\b  OK \n",
            "Extracting  /content/Dataset/Dataset/lps_era5_data/1987_JJAS_cyc_tracks_filt_3days_int.txt     \b\b\b\b 99%\b\b\b\b\b  OK \n",
            "Extracting  /content/Dataset/Dataset/lps_era5_data/1988_JJAS_cyc_tracks_filt_3days_int.txt     \b\b\b\b 99%\b\b\b\b\b  OK \n",
            "Extracting  /content/Dataset/Dataset/lps_era5_data/1989_JJAS_cyc_tracks_filt_3days_int.txt     \b\b\b\b 99%\b\b\b\b\b  OK \n",
            "Extracting  /content/Dataset/Dataset/lps_era5_data/1990_JJAS_cyc_tracks_filt_3days_int.txt     \b\b\b\b 99%\b\b\b\b\b  OK \n",
            "Extracting  /content/Dataset/Dataset/lps_era5_data/1991_JJAS_cyc_tracks_filt_3days_int.txt     \b\b\b\b 99%\b\b\b\b\b  OK \n",
            "Extracting  /content/Dataset/Dataset/lps_era5_data/1992_JJAS_cyc_tracks_filt_3days_int.txt     \b\b\b\b 99%\b\b\b\b\b  OK \n",
            "Extracting  /content/Dataset/Dataset/lps_era5_data/1993_JJAS_cyc_tracks_filt_3days_int.txt     \b\b\b\b 99%\b\b\b\b\b  OK \n",
            "Extracting  /content/Dataset/Dataset/lps_era5_data/1994_JJAS_cyc_tracks_filt_3days_int.txt     \b\b\b\b 99%\b\b\b\b\b  OK \n",
            "Extracting  /content/Dataset/Dataset/lps_era5_data/1995_JJAS_cyc_tracks_filt_3days_int.txt     \b\b\b\b 99%\b\b\b\b\b  OK \n",
            "Extracting  /content/Dataset/Dataset/lps_era5_data/1996_JJAS_cyc_tracks_filt_3days_int.txt     \b\b\b\b 99%\b\b\b\b\b  OK \n",
            "Extracting  /content/Dataset/Dataset/lps_era5_data/1997_JJAS_cyc_tracks_filt_3days_int.txt     \b\b\b\b 99%\b\b\b\b\b  OK \n",
            "Extracting  /content/Dataset/Dataset/lps_era5_data/1998_JJAS_cyc_tracks_filt_3days_int.txt     \b\b\b\b 99%\b\b\b\b\b  OK \n",
            "Extracting  /content/Dataset/Dataset/lps_era5_data/1999_JJAS_cyc_tracks_filt_3days_int.txt     \b\b\b\b 99%\b\b\b\b\b  OK \n",
            "Extracting  /content/Dataset/Dataset/lps_era5_data/2000_JJAS_cyc_tracks_filt_3days_int.txt     \b\b\b\b 99%\b\b\b\b\b  OK \n",
            "Extracting  /content/Dataset/Dataset/lps_era5_data/2001_JJAS_cyc_tracks_filt_3days_int.txt     \b\b\b\b 99%\b\b\b\b\b  OK \n",
            "Extracting  /content/Dataset/Dataset/lps_era5_data/2002_JJAS_cyc_tracks_filt_3days_int.txt     \b\b\b\b 99%\b\b\b\b\b  OK \n",
            "Extracting  /content/Dataset/Dataset/lps_era5_data/2003_JJAS_cyc_tracks_filt_3days_int.txt     \b\b\b\b 99%\b\b\b\b\b  OK \n",
            "Extracting  /content/Dataset/Dataset/lps_era5_data/2004_JJAS_cyc_tracks_filt_3days_int.txt     \b\b\b\b 99%\b\b\b\b\b  OK \n",
            "Extracting  /content/Dataset/Dataset/lps_era5_data/2005_JJAS_cyc_tracks_filt_3days_int.txt     \b\b\b\b 99%\b\b\b\b\b  OK \n",
            "Extracting  /content/Dataset/Dataset/lps_era5_data/2006_JJAS_cyc_tracks_filt_3days_int.txt     \b\b\b\b 99%\b\b\b\b\b  OK \n",
            "Extracting  /content/Dataset/Dataset/lps_era5_data/2007_JJAS_cyc_tracks_filt_3days_int.txt     \b\b\b\b 99%\b\b\b\b\b  OK \n",
            "Extracting  /content/Dataset/Dataset/lps_era5_data/2008_JJAS_cyc_tracks_filt_3days_int.txt     \b\b\b\b 99%\b\b\b\b\b  OK \n",
            "Extracting  /content/Dataset/Dataset/lps_era5_data/2009_JJAS_cyc_tracks_filt_3days_int.txt     \b\b\b\b 99%\b\b\b\b\b  OK \n",
            "Extracting  /content/Dataset/Dataset/lps_era5_data/2010_JJAS_cyc_tracks_filt_3days_int.txt     \b\b\b\b 99%\b\b\b\b\b  OK \n",
            "Extracting  /content/Dataset/Dataset/lps_era5_data/2011_JJAS_cyc_tracks_filt_3days_int.txt     \b\b\b\b 99%\b\b\b\b\b  OK \n",
            "Extracting  /content/Dataset/Dataset/lps_era5_data/2012_JJAS_cyc_tracks_filt_3days_int.txt     \b\b\b\b 99%\b\b\b\b\b  OK \n",
            "Extracting  /content/Dataset/Dataset/lps_era5_data/2013_JJAS_cyc_tracks_filt_3days_int.txt     \b\b\b\b 99%\b\b\b\b\b  OK \n",
            "Extracting  /content/Dataset/Dataset/lps_era5_data/2014_JJAS_cyc_tracks_filt_3days_int.txt     \b\b\b\b 99%\b\b\b\b\b  OK \n",
            "Extracting  /content/Dataset/Dataset/lps_era5_data/lps_output_tempext.txt     \b\b\b\b 99%\b\b\b\b\b  OK \n",
            "Creating    /content/Dataset/Dataset/daily_all                        OK\n",
            "Creating    /content/Dataset/Dataset/lpa_all                          OK\n",
            "All OK\n"
          ]
        }
      ],
      "source": [
        "!unrar x -o+ /content/drive/MyDrive/Dataset.rar /content/Dataset/"
      ]
    },
    {
      "cell_type": "code",
      "execution_count": null,
      "id": "8c2e8e28",
      "metadata": {
        "id": "8c2e8e28"
      },
      "outputs": [],
      "source": [
        "\n",
        "MSLP_DIR    = \"/content/Dataset/Dataset/daily_mslp\"\n",
        "TRACK_DIR   = \"/content/Dataset/Dataset/lps_era5_data\"\n",
        "\n",
        "SLP_OUT_DIR  = \"/content/unet_data/slp\"\n",
        "MASK_OUT_DIR = \"/content/unet_data/mask\"\n",
        "TIME_DIM     = \"valid_time\"\n",
        "VAR_NAME     = \"msl\"\n",
        "\n",
        "import os\n",
        "os.makedirs(SLP_OUT_DIR, exist_ok=True)\n",
        "os.makedirs(MASK_OUT_DIR, exist_ok=True)\n"
      ]
    },
    {
      "cell_type": "code",
      "source": [
        "\n",
        "import numpy as np\n",
        "from scipy.ndimage import minimum_filter, label\n",
        "\n",
        "def extract_lps_mask(slp_array):\n",
        "    \"\"\"\n",
        "    Returns a binary mask (uint8) where 1 indicates any connected local-minimum zone\n",
        "    in the input 2D SLP array.\n",
        "    \"\"\"\n",
        "\n",
        "    neigh_min = minimum_filter(slp_array, size=3, mode='mirror')\n",
        "    base_mask = (slp_array == neigh_min)\n",
        "\n",
        "    labels, n_zones = label(base_mask)\n",
        "\n",
        "    return (labels > 0).astype(np.uint8)\n",
        "\n",
        "\n"
      ],
      "metadata": {
        "id": "a7ZqZQVHuJFz"
      },
      "id": "a7ZqZQVHuJFz",
      "execution_count": null,
      "outputs": []
    },
    {
      "cell_type": "code",
      "source": [
        "\n",
        "import os\n",
        "import numpy as np\n",
        "import xarray as xr\n",
        "\n",
        "\n",
        "os.makedirs(SLP_OUT_DIR, exist_ok=True)\n",
        "os.makedirs(MASK_OUT_DIR, exist_ok=True)\n",
        "\n",
        "\n",
        "import glob\n",
        "nc_files = sorted(glob.glob(f\"{MSLP_DIR}/daily_mslp_*.nc\"))\n",
        "YEARS = [int(os.path.basename(f).split('_')[-1].split('.')[0]) for f in nc_files]\n",
        "print(\"Generating for years:\", YEARS)\n",
        "\n",
        "saved_slp = saved_mask = 0\n",
        "for yr in YEARS:\n",
        "    path = f\"{MSLP_DIR}/daily_mslp_{yr}.nc\"\n",
        "    with xr.open_dataset(path) as ds:\n",
        "        for t in ds[TIME_DIM].values:\n",
        "            date_str = np.datetime_as_string(t, unit='D')\n",
        "            slp = ds[VAR_NAME].sel({TIME_DIM: t}).values.astype(np.float32)\n",
        "            mask = extract_lps_mask(slp).astype(np.uint8)\n",
        "\n",
        "            slp_file  = f\"{SLP_OUT_DIR}/slp_{yr}_{date_str}.npy\"\n",
        "            mask_file = f\"{MASK_OUT_DIR}/mask_{yr}_{date_str}.npy\"\n",
        "\n",
        "            np.save(slp_file, slp)\n",
        "            np.save(mask_file, mask)\n",
        "            saved_slp += 1\n",
        "            saved_mask += 1\n",
        "\n",
        "print(f\"Saved {saved_slp} SLP files and {saved_mask} mask files to:\")\n",
        "print(\" \", SLP_OUT_DIR)\n",
        "print(\" \", MASK_OUT_DIR)\n"
      ],
      "metadata": {
        "colab": {
          "base_uri": "https://localhost:8080/"
        },
        "id": "AiBycrVmt5SI",
        "outputId": "b622358e-a0f2-4c6c-ca05-696725c9493c"
      },
      "id": "AiBycrVmt5SI",
      "execution_count": null,
      "outputs": [
        {
          "output_type": "stream",
          "name": "stdout",
          "text": [
            "Generating for years: [1979, 1980, 1981, 1982, 1983, 1984, 1985, 1986, 1987, 1988, 1989, 1990, 1991, 1992, 1993, 1994, 1995, 1996, 1997, 1998, 1999, 2000, 2001, 2002, 2003, 2004, 2005, 2006, 2007, 2008, 2009, 2010, 2011, 2012, 2013, 2014]\n",
            "Saved 4392 SLP files and 4392 mask files to:\n",
            "  /content/unet_data/slp\n",
            "  /content/unet_data/mask\n"
          ]
        }
      ]
    },
    {
      "cell_type": "code",
      "execution_count": null,
      "id": "f7d888e7",
      "metadata": {
        "colab": {
          "base_uri": "https://localhost:8080/"
        },
        "id": "f7d888e7",
        "outputId": "f48e6770-0162-4b99-e73b-485cac554513"
      },
      "outputs": [
        {
          "output_type": "stream",
          "name": "stdout",
          "text": [
            "Found 4392 SLP .npy files and 4392 mask .npy files.\n",
            "Splits → train: 3074, val: 658, test: 660\n"
          ]
        }
      ],
      "source": [
        "\n",
        "import glob, numpy as np, tensorflow as tf\n",
        "\n",
        "\n",
        "slp_files  = sorted(glob.glob(f\"{SLP_OUT_DIR}/*.npy\"))\n",
        "mask_files = sorted(glob.glob(f\"{MASK_OUT_DIR}/*.npy\"))\n",
        "\n",
        "\n",
        "print(\"Found\", len(slp_files), \"SLP .npy files and\", len(mask_files), \"mask .npy files.\")\n",
        "if len(slp_files) == 0 or len(mask_files) == 0:\n",
        "    raise RuntimeError(\n",
        "        \"No .npy files found! Make sure you have run the generation cell (Cell N+3) \"\n",
        "        \"to produce the SLP & mask .npy pairs before this step.\"\n",
        "    )\n",
        "assert len(slp_files) == len(mask_files), \"Mismatch between SLP and mask files\"\n",
        "\n",
        "\n",
        "def load_pair(path_slp, path_mask):\n",
        "    slp_file  = path_slp.numpy().decode('utf-8')\n",
        "    mask_file = path_mask.numpy().decode('utf-8')\n",
        "    slp  = np.load(slp_file).astype(np.float32)\n",
        "    mask = np.load(mask_file).astype(np.uint8)\n",
        "    slp  = ((slp - slp.mean()) / slp.std())[..., np.newaxis]  # (241,361,1)\n",
        "    mask = mask[..., np.newaxis]                               # (241,361,1)\n",
        "    return slp, mask\n",
        "\n",
        "\n",
        "dataset = tf.data.Dataset.from_tensor_slices((slp_files, mask_files))\n",
        "dataset = dataset.map(lambda x,y: tf.py_function(load_pair, [x,y], [tf.float32, tf.uint8]),\n",
        "                      num_parallel_calls=tf.data.AUTOTUNE)\n",
        "\n",
        "\n",
        "def fix_shapes(slp, mask):\n",
        "    slp  = tf.ensure_shape(slp,  [241,361,1])\n",
        "    mask = mask[:240, :360, :]\n",
        "    mask = tf.ensure_shape(mask, [240,360,1])\n",
        "    return slp, mask\n",
        "\n",
        "dataset = dataset.map(fix_shapes, num_parallel_calls=tf.data.AUTOTUNE)\n",
        "\n",
        "\n",
        "total  = len(slp_files)\n",
        "n_train = int(0.7 * total)\n",
        "n_val   = int(0.15 * total)\n",
        "n_test  = total - n_train - n_val\n",
        "\n",
        "\n",
        "dataset = dataset.shuffle(buffer_size=total, seed=42)\n",
        "\n",
        "train_ds = dataset.take(n_train).batch(8).prefetch(tf.data.AUTOTUNE)\n",
        "val_ds   = dataset.skip(n_train).take(n_val).batch(8).prefetch(tf.data.AUTOTUNE)\n",
        "test_ds  = dataset.skip(n_train + n_val).batch(8).prefetch(tf.data.AUTOTUNE)\n",
        "\n",
        "print(f\"Splits → train: {n_train}, val: {n_val}, test: {n_test}\")\n"
      ]
    },
    {
      "cell_type": "code",
      "execution_count": null,
      "id": "24c1c050",
      "metadata": {
        "colab": {
          "base_uri": "https://localhost:8080/",
          "height": 1000
        },
        "id": "24c1c050",
        "outputId": "86843129-5aef-4eb3-eb76-44516de9c83f"
      },
      "outputs": [
        {
          "output_type": "display_data",
          "data": {
            "text/plain": [
              "\u001b[1mModel: \"functional\"\u001b[0m\n"
            ],
            "text/html": [
              "<pre style=\"white-space:pre;overflow-x:auto;line-height:normal;font-family:Menlo,'DejaVu Sans Mono',consolas,'Courier New',monospace\"><span style=\"font-weight: bold\">Model: \"functional\"</span>\n",
              "</pre>\n"
            ]
          },
          "metadata": {}
        },
        {
          "output_type": "display_data",
          "data": {
            "text/plain": [
              "┏━━━━━━━━━━━━━━━━━━━━━┳━━━━━━━━━━━━━━━━━━━┳━━━━━━━━━━━━┳━━━━━━━━━━━━━━━━━━━┓\n",
              "┃\u001b[1m \u001b[0m\u001b[1mLayer (type)       \u001b[0m\u001b[1m \u001b[0m┃\u001b[1m \u001b[0m\u001b[1mOutput Shape     \u001b[0m\u001b[1m \u001b[0m┃\u001b[1m \u001b[0m\u001b[1m   Param #\u001b[0m\u001b[1m \u001b[0m┃\u001b[1m \u001b[0m\u001b[1mConnected to     \u001b[0m\u001b[1m \u001b[0m┃\n",
              "┡━━━━━━━━━━━━━━━━━━━━━╇━━━━━━━━━━━━━━━━━━━╇━━━━━━━━━━━━╇━━━━━━━━━━━━━━━━━━━┩\n",
              "│ input_layer         │ (\u001b[38;5;45mNone\u001b[0m, \u001b[38;5;34m241\u001b[0m, \u001b[38;5;34m361\u001b[0m,  │          \u001b[38;5;34m0\u001b[0m │ -                 │\n",
              "│ (\u001b[38;5;33mInputLayer\u001b[0m)        │ \u001b[38;5;34m1\u001b[0m)                │            │                   │\n",
              "├─────────────────────┼───────────────────┼────────────┼───────────────────┤\n",
              "│ conv2d (\u001b[38;5;33mConv2D\u001b[0m)     │ (\u001b[38;5;45mNone\u001b[0m, \u001b[38;5;34m241\u001b[0m, \u001b[38;5;34m361\u001b[0m,  │        \u001b[38;5;34m320\u001b[0m │ input_layer[\u001b[38;5;34m0\u001b[0m][\u001b[38;5;34m0\u001b[0m] │\n",
              "│                     │ \u001b[38;5;34m32\u001b[0m)               │            │                   │\n",
              "├─────────────────────┼───────────────────┼────────────┼───────────────────┤\n",
              "│ batch_normalization │ (\u001b[38;5;45mNone\u001b[0m, \u001b[38;5;34m241\u001b[0m, \u001b[38;5;34m361\u001b[0m,  │        \u001b[38;5;34m128\u001b[0m │ conv2d[\u001b[38;5;34m0\u001b[0m][\u001b[38;5;34m0\u001b[0m]      │\n",
              "│ (\u001b[38;5;33mBatchNormalizatio…\u001b[0m │ \u001b[38;5;34m32\u001b[0m)               │            │                   │\n",
              "├─────────────────────┼───────────────────┼────────────┼───────────────────┤\n",
              "│ dropout (\u001b[38;5;33mDropout\u001b[0m)   │ (\u001b[38;5;45mNone\u001b[0m, \u001b[38;5;34m241\u001b[0m, \u001b[38;5;34m361\u001b[0m,  │          \u001b[38;5;34m0\u001b[0m │ batch_normalizat… │\n",
              "│                     │ \u001b[38;5;34m32\u001b[0m)               │            │                   │\n",
              "├─────────────────────┼───────────────────┼────────────┼───────────────────┤\n",
              "│ conv2d_1 (\u001b[38;5;33mConv2D\u001b[0m)   │ (\u001b[38;5;45mNone\u001b[0m, \u001b[38;5;34m241\u001b[0m, \u001b[38;5;34m361\u001b[0m,  │      \u001b[38;5;34m9,248\u001b[0m │ dropout[\u001b[38;5;34m0\u001b[0m][\u001b[38;5;34m0\u001b[0m]     │\n",
              "│                     │ \u001b[38;5;34m32\u001b[0m)               │            │                   │\n",
              "├─────────────────────┼───────────────────┼────────────┼───────────────────┤\n",
              "│ max_pooling2d       │ (\u001b[38;5;45mNone\u001b[0m, \u001b[38;5;34m120\u001b[0m, \u001b[38;5;34m180\u001b[0m,  │          \u001b[38;5;34m0\u001b[0m │ conv2d_1[\u001b[38;5;34m0\u001b[0m][\u001b[38;5;34m0\u001b[0m]    │\n",
              "│ (\u001b[38;5;33mMaxPooling2D\u001b[0m)      │ \u001b[38;5;34m32\u001b[0m)               │            │                   │\n",
              "├─────────────────────┼───────────────────┼────────────┼───────────────────┤\n",
              "│ conv2d_2 (\u001b[38;5;33mConv2D\u001b[0m)   │ (\u001b[38;5;45mNone\u001b[0m, \u001b[38;5;34m120\u001b[0m, \u001b[38;5;34m180\u001b[0m,  │     \u001b[38;5;34m18,496\u001b[0m │ max_pooling2d[\u001b[38;5;34m0\u001b[0m]… │\n",
              "│                     │ \u001b[38;5;34m64\u001b[0m)               │            │                   │\n",
              "├─────────────────────┼───────────────────┼────────────┼───────────────────┤\n",
              "│ batch_normalizatio… │ (\u001b[38;5;45mNone\u001b[0m, \u001b[38;5;34m120\u001b[0m, \u001b[38;5;34m180\u001b[0m,  │        \u001b[38;5;34m256\u001b[0m │ conv2d_2[\u001b[38;5;34m0\u001b[0m][\u001b[38;5;34m0\u001b[0m]    │\n",
              "│ (\u001b[38;5;33mBatchNormalizatio…\u001b[0m │ \u001b[38;5;34m64\u001b[0m)               │            │                   │\n",
              "├─────────────────────┼───────────────────┼────────────┼───────────────────┤\n",
              "│ dropout_1 (\u001b[38;5;33mDropout\u001b[0m) │ (\u001b[38;5;45mNone\u001b[0m, \u001b[38;5;34m120\u001b[0m, \u001b[38;5;34m180\u001b[0m,  │          \u001b[38;5;34m0\u001b[0m │ batch_normalizat… │\n",
              "│                     │ \u001b[38;5;34m64\u001b[0m)               │            │                   │\n",
              "├─────────────────────┼───────────────────┼────────────┼───────────────────┤\n",
              "│ conv2d_3 (\u001b[38;5;33mConv2D\u001b[0m)   │ (\u001b[38;5;45mNone\u001b[0m, \u001b[38;5;34m120\u001b[0m, \u001b[38;5;34m180\u001b[0m,  │     \u001b[38;5;34m36,928\u001b[0m │ dropout_1[\u001b[38;5;34m0\u001b[0m][\u001b[38;5;34m0\u001b[0m]   │\n",
              "│                     │ \u001b[38;5;34m64\u001b[0m)               │            │                   │\n",
              "├─────────────────────┼───────────────────┼────────────┼───────────────────┤\n",
              "│ max_pooling2d_1     │ (\u001b[38;5;45mNone\u001b[0m, \u001b[38;5;34m60\u001b[0m, \u001b[38;5;34m90\u001b[0m,    │          \u001b[38;5;34m0\u001b[0m │ conv2d_3[\u001b[38;5;34m0\u001b[0m][\u001b[38;5;34m0\u001b[0m]    │\n",
              "│ (\u001b[38;5;33mMaxPooling2D\u001b[0m)      │ \u001b[38;5;34m64\u001b[0m)               │            │                   │\n",
              "├─────────────────────┼───────────────────┼────────────┼───────────────────┤\n",
              "│ conv2d_4 (\u001b[38;5;33mConv2D\u001b[0m)   │ (\u001b[38;5;45mNone\u001b[0m, \u001b[38;5;34m60\u001b[0m, \u001b[38;5;34m90\u001b[0m,    │     \u001b[38;5;34m73,856\u001b[0m │ max_pooling2d_1[\u001b[38;5;34m…\u001b[0m │\n",
              "│                     │ \u001b[38;5;34m128\u001b[0m)              │            │                   │\n",
              "├─────────────────────┼───────────────────┼────────────┼───────────────────┤\n",
              "│ batch_normalizatio… │ (\u001b[38;5;45mNone\u001b[0m, \u001b[38;5;34m60\u001b[0m, \u001b[38;5;34m90\u001b[0m,    │        \u001b[38;5;34m512\u001b[0m │ conv2d_4[\u001b[38;5;34m0\u001b[0m][\u001b[38;5;34m0\u001b[0m]    │\n",
              "│ (\u001b[38;5;33mBatchNormalizatio…\u001b[0m │ \u001b[38;5;34m128\u001b[0m)              │            │                   │\n",
              "├─────────────────────┼───────────────────┼────────────┼───────────────────┤\n",
              "│ dropout_2 (\u001b[38;5;33mDropout\u001b[0m) │ (\u001b[38;5;45mNone\u001b[0m, \u001b[38;5;34m60\u001b[0m, \u001b[38;5;34m90\u001b[0m,    │          \u001b[38;5;34m0\u001b[0m │ batch_normalizat… │\n",
              "│                     │ \u001b[38;5;34m128\u001b[0m)              │            │                   │\n",
              "├─────────────────────┼───────────────────┼────────────┼───────────────────┤\n",
              "│ conv2d_5 (\u001b[38;5;33mConv2D\u001b[0m)   │ (\u001b[38;5;45mNone\u001b[0m, \u001b[38;5;34m60\u001b[0m, \u001b[38;5;34m90\u001b[0m,    │    \u001b[38;5;34m147,584\u001b[0m │ dropout_2[\u001b[38;5;34m0\u001b[0m][\u001b[38;5;34m0\u001b[0m]   │\n",
              "│                     │ \u001b[38;5;34m128\u001b[0m)              │            │                   │\n",
              "├─────────────────────┼───────────────────┼────────────┼───────────────────┤\n",
              "│ conv2d_transpose    │ (\u001b[38;5;45mNone\u001b[0m, \u001b[38;5;34m120\u001b[0m, \u001b[38;5;34m180\u001b[0m,  │     \u001b[38;5;34m32,832\u001b[0m │ conv2d_5[\u001b[38;5;34m0\u001b[0m][\u001b[38;5;34m0\u001b[0m]    │\n",
              "│ (\u001b[38;5;33mConv2DTranspose\u001b[0m)   │ \u001b[38;5;34m64\u001b[0m)               │            │                   │\n",
              "├─────────────────────┼───────────────────┼────────────┼───────────────────┤\n",
              "│ concatenate         │ (\u001b[38;5;45mNone\u001b[0m, \u001b[38;5;34m120\u001b[0m, \u001b[38;5;34m180\u001b[0m,  │          \u001b[38;5;34m0\u001b[0m │ conv2d_transpose… │\n",
              "│ (\u001b[38;5;33mConcatenate\u001b[0m)       │ \u001b[38;5;34m128\u001b[0m)              │            │ conv2d_3[\u001b[38;5;34m0\u001b[0m][\u001b[38;5;34m0\u001b[0m]    │\n",
              "├─────────────────────┼───────────────────┼────────────┼───────────────────┤\n",
              "│ conv2d_6 (\u001b[38;5;33mConv2D\u001b[0m)   │ (\u001b[38;5;45mNone\u001b[0m, \u001b[38;5;34m120\u001b[0m, \u001b[38;5;34m180\u001b[0m,  │     \u001b[38;5;34m73,792\u001b[0m │ concatenate[\u001b[38;5;34m0\u001b[0m][\u001b[38;5;34m0\u001b[0m] │\n",
              "│                     │ \u001b[38;5;34m64\u001b[0m)               │            │                   │\n",
              "├─────────────────────┼───────────────────┼────────────┼───────────────────┤\n",
              "│ batch_normalizatio… │ (\u001b[38;5;45mNone\u001b[0m, \u001b[38;5;34m120\u001b[0m, \u001b[38;5;34m180\u001b[0m,  │        \u001b[38;5;34m256\u001b[0m │ conv2d_6[\u001b[38;5;34m0\u001b[0m][\u001b[38;5;34m0\u001b[0m]    │\n",
              "│ (\u001b[38;5;33mBatchNormalizatio…\u001b[0m │ \u001b[38;5;34m64\u001b[0m)               │            │                   │\n",
              "├─────────────────────┼───────────────────┼────────────┼───────────────────┤\n",
              "│ dropout_3 (\u001b[38;5;33mDropout\u001b[0m) │ (\u001b[38;5;45mNone\u001b[0m, \u001b[38;5;34m120\u001b[0m, \u001b[38;5;34m180\u001b[0m,  │          \u001b[38;5;34m0\u001b[0m │ batch_normalizat… │\n",
              "│                     │ \u001b[38;5;34m64\u001b[0m)               │            │                   │\n",
              "├─────────────────────┼───────────────────┼────────────┼───────────────────┤\n",
              "│ conv2d_7 (\u001b[38;5;33mConv2D\u001b[0m)   │ (\u001b[38;5;45mNone\u001b[0m, \u001b[38;5;34m120\u001b[0m, \u001b[38;5;34m180\u001b[0m,  │     \u001b[38;5;34m36,928\u001b[0m │ dropout_3[\u001b[38;5;34m0\u001b[0m][\u001b[38;5;34m0\u001b[0m]   │\n",
              "│                     │ \u001b[38;5;34m64\u001b[0m)               │            │                   │\n",
              "├─────────────────────┼───────────────────┼────────────┼───────────────────┤\n",
              "│ conv2d_transpose_1  │ (\u001b[38;5;45mNone\u001b[0m, \u001b[38;5;34m240\u001b[0m, \u001b[38;5;34m360\u001b[0m,  │      \u001b[38;5;34m8,224\u001b[0m │ conv2d_7[\u001b[38;5;34m0\u001b[0m][\u001b[38;5;34m0\u001b[0m]    │\n",
              "│ (\u001b[38;5;33mConv2DTranspose\u001b[0m)   │ \u001b[38;5;34m32\u001b[0m)               │            │                   │\n",
              "├─────────────────────┼───────────────────┼────────────┼───────────────────┤\n",
              "│ cropping2d          │ (\u001b[38;5;45mNone\u001b[0m, \u001b[38;5;34m240\u001b[0m, \u001b[38;5;34m360\u001b[0m,  │          \u001b[38;5;34m0\u001b[0m │ conv2d_1[\u001b[38;5;34m0\u001b[0m][\u001b[38;5;34m0\u001b[0m]    │\n",
              "│ (\u001b[38;5;33mCropping2D\u001b[0m)        │ \u001b[38;5;34m32\u001b[0m)               │            │                   │\n",
              "├─────────────────────┼───────────────────┼────────────┼───────────────────┤\n",
              "│ concatenate_1       │ (\u001b[38;5;45mNone\u001b[0m, \u001b[38;5;34m240\u001b[0m, \u001b[38;5;34m360\u001b[0m,  │          \u001b[38;5;34m0\u001b[0m │ conv2d_transpose… │\n",
              "│ (\u001b[38;5;33mConcatenate\u001b[0m)       │ \u001b[38;5;34m64\u001b[0m)               │            │ cropping2d[\u001b[38;5;34m0\u001b[0m][\u001b[38;5;34m0\u001b[0m]  │\n",
              "├─────────────────────┼───────────────────┼────────────┼───────────────────┤\n",
              "│ conv2d_8 (\u001b[38;5;33mConv2D\u001b[0m)   │ (\u001b[38;5;45mNone\u001b[0m, \u001b[38;5;34m240\u001b[0m, \u001b[38;5;34m360\u001b[0m,  │     \u001b[38;5;34m18,464\u001b[0m │ concatenate_1[\u001b[38;5;34m0\u001b[0m]… │\n",
              "│                     │ \u001b[38;5;34m32\u001b[0m)               │            │                   │\n",
              "├─────────────────────┼───────────────────┼────────────┼───────────────────┤\n",
              "│ batch_normalizatio… │ (\u001b[38;5;45mNone\u001b[0m, \u001b[38;5;34m240\u001b[0m, \u001b[38;5;34m360\u001b[0m,  │        \u001b[38;5;34m128\u001b[0m │ conv2d_8[\u001b[38;5;34m0\u001b[0m][\u001b[38;5;34m0\u001b[0m]    │\n",
              "│ (\u001b[38;5;33mBatchNormalizatio…\u001b[0m │ \u001b[38;5;34m32\u001b[0m)               │            │                   │\n",
              "├─────────────────────┼───────────────────┼────────────┼───────────────────┤\n",
              "│ dropout_4 (\u001b[38;5;33mDropout\u001b[0m) │ (\u001b[38;5;45mNone\u001b[0m, \u001b[38;5;34m240\u001b[0m, \u001b[38;5;34m360\u001b[0m,  │          \u001b[38;5;34m0\u001b[0m │ batch_normalizat… │\n",
              "│                     │ \u001b[38;5;34m32\u001b[0m)               │            │                   │\n",
              "├─────────────────────┼───────────────────┼────────────┼───────────────────┤\n",
              "│ conv2d_9 (\u001b[38;5;33mConv2D\u001b[0m)   │ (\u001b[38;5;45mNone\u001b[0m, \u001b[38;5;34m240\u001b[0m, \u001b[38;5;34m360\u001b[0m,  │      \u001b[38;5;34m9,248\u001b[0m │ dropout_4[\u001b[38;5;34m0\u001b[0m][\u001b[38;5;34m0\u001b[0m]   │\n",
              "│                     │ \u001b[38;5;34m32\u001b[0m)               │            │                   │\n",
              "├─────────────────────┼───────────────────┼────────────┼───────────────────┤\n",
              "│ conv2d_10 (\u001b[38;5;33mConv2D\u001b[0m)  │ (\u001b[38;5;45mNone\u001b[0m, \u001b[38;5;34m240\u001b[0m, \u001b[38;5;34m360\u001b[0m,  │         \u001b[38;5;34m33\u001b[0m │ conv2d_9[\u001b[38;5;34m0\u001b[0m][\u001b[38;5;34m0\u001b[0m]    │\n",
              "│                     │ \u001b[38;5;34m1\u001b[0m)                │            │                   │\n",
              "└─────────────────────┴───────────────────┴────────────┴───────────────────┘\n"
            ],
            "text/html": [
              "<pre style=\"white-space:pre;overflow-x:auto;line-height:normal;font-family:Menlo,'DejaVu Sans Mono',consolas,'Courier New',monospace\">┏━━━━━━━━━━━━━━━━━━━━━┳━━━━━━━━━━━━━━━━━━━┳━━━━━━━━━━━━┳━━━━━━━━━━━━━━━━━━━┓\n",
              "┃<span style=\"font-weight: bold\"> Layer (type)        </span>┃<span style=\"font-weight: bold\"> Output Shape      </span>┃<span style=\"font-weight: bold\">    Param # </span>┃<span style=\"font-weight: bold\"> Connected to      </span>┃\n",
              "┡━━━━━━━━━━━━━━━━━━━━━╇━━━━━━━━━━━━━━━━━━━╇━━━━━━━━━━━━╇━━━━━━━━━━━━━━━━━━━┩\n",
              "│ input_layer         │ (<span style=\"color: #00d7ff; text-decoration-color: #00d7ff\">None</span>, <span style=\"color: #00af00; text-decoration-color: #00af00\">241</span>, <span style=\"color: #00af00; text-decoration-color: #00af00\">361</span>,  │          <span style=\"color: #00af00; text-decoration-color: #00af00\">0</span> │ -                 │\n",
              "│ (<span style=\"color: #0087ff; text-decoration-color: #0087ff\">InputLayer</span>)        │ <span style=\"color: #00af00; text-decoration-color: #00af00\">1</span>)                │            │                   │\n",
              "├─────────────────────┼───────────────────┼────────────┼───────────────────┤\n",
              "│ conv2d (<span style=\"color: #0087ff; text-decoration-color: #0087ff\">Conv2D</span>)     │ (<span style=\"color: #00d7ff; text-decoration-color: #00d7ff\">None</span>, <span style=\"color: #00af00; text-decoration-color: #00af00\">241</span>, <span style=\"color: #00af00; text-decoration-color: #00af00\">361</span>,  │        <span style=\"color: #00af00; text-decoration-color: #00af00\">320</span> │ input_layer[<span style=\"color: #00af00; text-decoration-color: #00af00\">0</span>][<span style=\"color: #00af00; text-decoration-color: #00af00\">0</span>] │\n",
              "│                     │ <span style=\"color: #00af00; text-decoration-color: #00af00\">32</span>)               │            │                   │\n",
              "├─────────────────────┼───────────────────┼────────────┼───────────────────┤\n",
              "│ batch_normalization │ (<span style=\"color: #00d7ff; text-decoration-color: #00d7ff\">None</span>, <span style=\"color: #00af00; text-decoration-color: #00af00\">241</span>, <span style=\"color: #00af00; text-decoration-color: #00af00\">361</span>,  │        <span style=\"color: #00af00; text-decoration-color: #00af00\">128</span> │ conv2d[<span style=\"color: #00af00; text-decoration-color: #00af00\">0</span>][<span style=\"color: #00af00; text-decoration-color: #00af00\">0</span>]      │\n",
              "│ (<span style=\"color: #0087ff; text-decoration-color: #0087ff\">BatchNormalizatio…</span> │ <span style=\"color: #00af00; text-decoration-color: #00af00\">32</span>)               │            │                   │\n",
              "├─────────────────────┼───────────────────┼────────────┼───────────────────┤\n",
              "│ dropout (<span style=\"color: #0087ff; text-decoration-color: #0087ff\">Dropout</span>)   │ (<span style=\"color: #00d7ff; text-decoration-color: #00d7ff\">None</span>, <span style=\"color: #00af00; text-decoration-color: #00af00\">241</span>, <span style=\"color: #00af00; text-decoration-color: #00af00\">361</span>,  │          <span style=\"color: #00af00; text-decoration-color: #00af00\">0</span> │ batch_normalizat… │\n",
              "│                     │ <span style=\"color: #00af00; text-decoration-color: #00af00\">32</span>)               │            │                   │\n",
              "├─────────────────────┼───────────────────┼────────────┼───────────────────┤\n",
              "│ conv2d_1 (<span style=\"color: #0087ff; text-decoration-color: #0087ff\">Conv2D</span>)   │ (<span style=\"color: #00d7ff; text-decoration-color: #00d7ff\">None</span>, <span style=\"color: #00af00; text-decoration-color: #00af00\">241</span>, <span style=\"color: #00af00; text-decoration-color: #00af00\">361</span>,  │      <span style=\"color: #00af00; text-decoration-color: #00af00\">9,248</span> │ dropout[<span style=\"color: #00af00; text-decoration-color: #00af00\">0</span>][<span style=\"color: #00af00; text-decoration-color: #00af00\">0</span>]     │\n",
              "│                     │ <span style=\"color: #00af00; text-decoration-color: #00af00\">32</span>)               │            │                   │\n",
              "├─────────────────────┼───────────────────┼────────────┼───────────────────┤\n",
              "│ max_pooling2d       │ (<span style=\"color: #00d7ff; text-decoration-color: #00d7ff\">None</span>, <span style=\"color: #00af00; text-decoration-color: #00af00\">120</span>, <span style=\"color: #00af00; text-decoration-color: #00af00\">180</span>,  │          <span style=\"color: #00af00; text-decoration-color: #00af00\">0</span> │ conv2d_1[<span style=\"color: #00af00; text-decoration-color: #00af00\">0</span>][<span style=\"color: #00af00; text-decoration-color: #00af00\">0</span>]    │\n",
              "│ (<span style=\"color: #0087ff; text-decoration-color: #0087ff\">MaxPooling2D</span>)      │ <span style=\"color: #00af00; text-decoration-color: #00af00\">32</span>)               │            │                   │\n",
              "├─────────────────────┼───────────────────┼────────────┼───────────────────┤\n",
              "│ conv2d_2 (<span style=\"color: #0087ff; text-decoration-color: #0087ff\">Conv2D</span>)   │ (<span style=\"color: #00d7ff; text-decoration-color: #00d7ff\">None</span>, <span style=\"color: #00af00; text-decoration-color: #00af00\">120</span>, <span style=\"color: #00af00; text-decoration-color: #00af00\">180</span>,  │     <span style=\"color: #00af00; text-decoration-color: #00af00\">18,496</span> │ max_pooling2d[<span style=\"color: #00af00; text-decoration-color: #00af00\">0</span>]… │\n",
              "│                     │ <span style=\"color: #00af00; text-decoration-color: #00af00\">64</span>)               │            │                   │\n",
              "├─────────────────────┼───────────────────┼────────────┼───────────────────┤\n",
              "│ batch_normalizatio… │ (<span style=\"color: #00d7ff; text-decoration-color: #00d7ff\">None</span>, <span style=\"color: #00af00; text-decoration-color: #00af00\">120</span>, <span style=\"color: #00af00; text-decoration-color: #00af00\">180</span>,  │        <span style=\"color: #00af00; text-decoration-color: #00af00\">256</span> │ conv2d_2[<span style=\"color: #00af00; text-decoration-color: #00af00\">0</span>][<span style=\"color: #00af00; text-decoration-color: #00af00\">0</span>]    │\n",
              "│ (<span style=\"color: #0087ff; text-decoration-color: #0087ff\">BatchNormalizatio…</span> │ <span style=\"color: #00af00; text-decoration-color: #00af00\">64</span>)               │            │                   │\n",
              "├─────────────────────┼───────────────────┼────────────┼───────────────────┤\n",
              "│ dropout_1 (<span style=\"color: #0087ff; text-decoration-color: #0087ff\">Dropout</span>) │ (<span style=\"color: #00d7ff; text-decoration-color: #00d7ff\">None</span>, <span style=\"color: #00af00; text-decoration-color: #00af00\">120</span>, <span style=\"color: #00af00; text-decoration-color: #00af00\">180</span>,  │          <span style=\"color: #00af00; text-decoration-color: #00af00\">0</span> │ batch_normalizat… │\n",
              "│                     │ <span style=\"color: #00af00; text-decoration-color: #00af00\">64</span>)               │            │                   │\n",
              "├─────────────────────┼───────────────────┼────────────┼───────────────────┤\n",
              "│ conv2d_3 (<span style=\"color: #0087ff; text-decoration-color: #0087ff\">Conv2D</span>)   │ (<span style=\"color: #00d7ff; text-decoration-color: #00d7ff\">None</span>, <span style=\"color: #00af00; text-decoration-color: #00af00\">120</span>, <span style=\"color: #00af00; text-decoration-color: #00af00\">180</span>,  │     <span style=\"color: #00af00; text-decoration-color: #00af00\">36,928</span> │ dropout_1[<span style=\"color: #00af00; text-decoration-color: #00af00\">0</span>][<span style=\"color: #00af00; text-decoration-color: #00af00\">0</span>]   │\n",
              "│                     │ <span style=\"color: #00af00; text-decoration-color: #00af00\">64</span>)               │            │                   │\n",
              "├─────────────────────┼───────────────────┼────────────┼───────────────────┤\n",
              "│ max_pooling2d_1     │ (<span style=\"color: #00d7ff; text-decoration-color: #00d7ff\">None</span>, <span style=\"color: #00af00; text-decoration-color: #00af00\">60</span>, <span style=\"color: #00af00; text-decoration-color: #00af00\">90</span>,    │          <span style=\"color: #00af00; text-decoration-color: #00af00\">0</span> │ conv2d_3[<span style=\"color: #00af00; text-decoration-color: #00af00\">0</span>][<span style=\"color: #00af00; text-decoration-color: #00af00\">0</span>]    │\n",
              "│ (<span style=\"color: #0087ff; text-decoration-color: #0087ff\">MaxPooling2D</span>)      │ <span style=\"color: #00af00; text-decoration-color: #00af00\">64</span>)               │            │                   │\n",
              "├─────────────────────┼───────────────────┼────────────┼───────────────────┤\n",
              "│ conv2d_4 (<span style=\"color: #0087ff; text-decoration-color: #0087ff\">Conv2D</span>)   │ (<span style=\"color: #00d7ff; text-decoration-color: #00d7ff\">None</span>, <span style=\"color: #00af00; text-decoration-color: #00af00\">60</span>, <span style=\"color: #00af00; text-decoration-color: #00af00\">90</span>,    │     <span style=\"color: #00af00; text-decoration-color: #00af00\">73,856</span> │ max_pooling2d_1[<span style=\"color: #00af00; text-decoration-color: #00af00\">…</span> │\n",
              "│                     │ <span style=\"color: #00af00; text-decoration-color: #00af00\">128</span>)              │            │                   │\n",
              "├─────────────────────┼───────────────────┼────────────┼───────────────────┤\n",
              "│ batch_normalizatio… │ (<span style=\"color: #00d7ff; text-decoration-color: #00d7ff\">None</span>, <span style=\"color: #00af00; text-decoration-color: #00af00\">60</span>, <span style=\"color: #00af00; text-decoration-color: #00af00\">90</span>,    │        <span style=\"color: #00af00; text-decoration-color: #00af00\">512</span> │ conv2d_4[<span style=\"color: #00af00; text-decoration-color: #00af00\">0</span>][<span style=\"color: #00af00; text-decoration-color: #00af00\">0</span>]    │\n",
              "│ (<span style=\"color: #0087ff; text-decoration-color: #0087ff\">BatchNormalizatio…</span> │ <span style=\"color: #00af00; text-decoration-color: #00af00\">128</span>)              │            │                   │\n",
              "├─────────────────────┼───────────────────┼────────────┼───────────────────┤\n",
              "│ dropout_2 (<span style=\"color: #0087ff; text-decoration-color: #0087ff\">Dropout</span>) │ (<span style=\"color: #00d7ff; text-decoration-color: #00d7ff\">None</span>, <span style=\"color: #00af00; text-decoration-color: #00af00\">60</span>, <span style=\"color: #00af00; text-decoration-color: #00af00\">90</span>,    │          <span style=\"color: #00af00; text-decoration-color: #00af00\">0</span> │ batch_normalizat… │\n",
              "│                     │ <span style=\"color: #00af00; text-decoration-color: #00af00\">128</span>)              │            │                   │\n",
              "├─────────────────────┼───────────────────┼────────────┼───────────────────┤\n",
              "│ conv2d_5 (<span style=\"color: #0087ff; text-decoration-color: #0087ff\">Conv2D</span>)   │ (<span style=\"color: #00d7ff; text-decoration-color: #00d7ff\">None</span>, <span style=\"color: #00af00; text-decoration-color: #00af00\">60</span>, <span style=\"color: #00af00; text-decoration-color: #00af00\">90</span>,    │    <span style=\"color: #00af00; text-decoration-color: #00af00\">147,584</span> │ dropout_2[<span style=\"color: #00af00; text-decoration-color: #00af00\">0</span>][<span style=\"color: #00af00; text-decoration-color: #00af00\">0</span>]   │\n",
              "│                     │ <span style=\"color: #00af00; text-decoration-color: #00af00\">128</span>)              │            │                   │\n",
              "├─────────────────────┼───────────────────┼────────────┼───────────────────┤\n",
              "│ conv2d_transpose    │ (<span style=\"color: #00d7ff; text-decoration-color: #00d7ff\">None</span>, <span style=\"color: #00af00; text-decoration-color: #00af00\">120</span>, <span style=\"color: #00af00; text-decoration-color: #00af00\">180</span>,  │     <span style=\"color: #00af00; text-decoration-color: #00af00\">32,832</span> │ conv2d_5[<span style=\"color: #00af00; text-decoration-color: #00af00\">0</span>][<span style=\"color: #00af00; text-decoration-color: #00af00\">0</span>]    │\n",
              "│ (<span style=\"color: #0087ff; text-decoration-color: #0087ff\">Conv2DTranspose</span>)   │ <span style=\"color: #00af00; text-decoration-color: #00af00\">64</span>)               │            │                   │\n",
              "├─────────────────────┼───────────────────┼────────────┼───────────────────┤\n",
              "│ concatenate         │ (<span style=\"color: #00d7ff; text-decoration-color: #00d7ff\">None</span>, <span style=\"color: #00af00; text-decoration-color: #00af00\">120</span>, <span style=\"color: #00af00; text-decoration-color: #00af00\">180</span>,  │          <span style=\"color: #00af00; text-decoration-color: #00af00\">0</span> │ conv2d_transpose… │\n",
              "│ (<span style=\"color: #0087ff; text-decoration-color: #0087ff\">Concatenate</span>)       │ <span style=\"color: #00af00; text-decoration-color: #00af00\">128</span>)              │            │ conv2d_3[<span style=\"color: #00af00; text-decoration-color: #00af00\">0</span>][<span style=\"color: #00af00; text-decoration-color: #00af00\">0</span>]    │\n",
              "├─────────────────────┼───────────────────┼────────────┼───────────────────┤\n",
              "│ conv2d_6 (<span style=\"color: #0087ff; text-decoration-color: #0087ff\">Conv2D</span>)   │ (<span style=\"color: #00d7ff; text-decoration-color: #00d7ff\">None</span>, <span style=\"color: #00af00; text-decoration-color: #00af00\">120</span>, <span style=\"color: #00af00; text-decoration-color: #00af00\">180</span>,  │     <span style=\"color: #00af00; text-decoration-color: #00af00\">73,792</span> │ concatenate[<span style=\"color: #00af00; text-decoration-color: #00af00\">0</span>][<span style=\"color: #00af00; text-decoration-color: #00af00\">0</span>] │\n",
              "│                     │ <span style=\"color: #00af00; text-decoration-color: #00af00\">64</span>)               │            │                   │\n",
              "├─────────────────────┼───────────────────┼────────────┼───────────────────┤\n",
              "│ batch_normalizatio… │ (<span style=\"color: #00d7ff; text-decoration-color: #00d7ff\">None</span>, <span style=\"color: #00af00; text-decoration-color: #00af00\">120</span>, <span style=\"color: #00af00; text-decoration-color: #00af00\">180</span>,  │        <span style=\"color: #00af00; text-decoration-color: #00af00\">256</span> │ conv2d_6[<span style=\"color: #00af00; text-decoration-color: #00af00\">0</span>][<span style=\"color: #00af00; text-decoration-color: #00af00\">0</span>]    │\n",
              "│ (<span style=\"color: #0087ff; text-decoration-color: #0087ff\">BatchNormalizatio…</span> │ <span style=\"color: #00af00; text-decoration-color: #00af00\">64</span>)               │            │                   │\n",
              "├─────────────────────┼───────────────────┼────────────┼───────────────────┤\n",
              "│ dropout_3 (<span style=\"color: #0087ff; text-decoration-color: #0087ff\">Dropout</span>) │ (<span style=\"color: #00d7ff; text-decoration-color: #00d7ff\">None</span>, <span style=\"color: #00af00; text-decoration-color: #00af00\">120</span>, <span style=\"color: #00af00; text-decoration-color: #00af00\">180</span>,  │          <span style=\"color: #00af00; text-decoration-color: #00af00\">0</span> │ batch_normalizat… │\n",
              "│                     │ <span style=\"color: #00af00; text-decoration-color: #00af00\">64</span>)               │            │                   │\n",
              "├─────────────────────┼───────────────────┼────────────┼───────────────────┤\n",
              "│ conv2d_7 (<span style=\"color: #0087ff; text-decoration-color: #0087ff\">Conv2D</span>)   │ (<span style=\"color: #00d7ff; text-decoration-color: #00d7ff\">None</span>, <span style=\"color: #00af00; text-decoration-color: #00af00\">120</span>, <span style=\"color: #00af00; text-decoration-color: #00af00\">180</span>,  │     <span style=\"color: #00af00; text-decoration-color: #00af00\">36,928</span> │ dropout_3[<span style=\"color: #00af00; text-decoration-color: #00af00\">0</span>][<span style=\"color: #00af00; text-decoration-color: #00af00\">0</span>]   │\n",
              "│                     │ <span style=\"color: #00af00; text-decoration-color: #00af00\">64</span>)               │            │                   │\n",
              "├─────────────────────┼───────────────────┼────────────┼───────────────────┤\n",
              "│ conv2d_transpose_1  │ (<span style=\"color: #00d7ff; text-decoration-color: #00d7ff\">None</span>, <span style=\"color: #00af00; text-decoration-color: #00af00\">240</span>, <span style=\"color: #00af00; text-decoration-color: #00af00\">360</span>,  │      <span style=\"color: #00af00; text-decoration-color: #00af00\">8,224</span> │ conv2d_7[<span style=\"color: #00af00; text-decoration-color: #00af00\">0</span>][<span style=\"color: #00af00; text-decoration-color: #00af00\">0</span>]    │\n",
              "│ (<span style=\"color: #0087ff; text-decoration-color: #0087ff\">Conv2DTranspose</span>)   │ <span style=\"color: #00af00; text-decoration-color: #00af00\">32</span>)               │            │                   │\n",
              "├─────────────────────┼───────────────────┼────────────┼───────────────────┤\n",
              "│ cropping2d          │ (<span style=\"color: #00d7ff; text-decoration-color: #00d7ff\">None</span>, <span style=\"color: #00af00; text-decoration-color: #00af00\">240</span>, <span style=\"color: #00af00; text-decoration-color: #00af00\">360</span>,  │          <span style=\"color: #00af00; text-decoration-color: #00af00\">0</span> │ conv2d_1[<span style=\"color: #00af00; text-decoration-color: #00af00\">0</span>][<span style=\"color: #00af00; text-decoration-color: #00af00\">0</span>]    │\n",
              "│ (<span style=\"color: #0087ff; text-decoration-color: #0087ff\">Cropping2D</span>)        │ <span style=\"color: #00af00; text-decoration-color: #00af00\">32</span>)               │            │                   │\n",
              "├─────────────────────┼───────────────────┼────────────┼───────────────────┤\n",
              "│ concatenate_1       │ (<span style=\"color: #00d7ff; text-decoration-color: #00d7ff\">None</span>, <span style=\"color: #00af00; text-decoration-color: #00af00\">240</span>, <span style=\"color: #00af00; text-decoration-color: #00af00\">360</span>,  │          <span style=\"color: #00af00; text-decoration-color: #00af00\">0</span> │ conv2d_transpose… │\n",
              "│ (<span style=\"color: #0087ff; text-decoration-color: #0087ff\">Concatenate</span>)       │ <span style=\"color: #00af00; text-decoration-color: #00af00\">64</span>)               │            │ cropping2d[<span style=\"color: #00af00; text-decoration-color: #00af00\">0</span>][<span style=\"color: #00af00; text-decoration-color: #00af00\">0</span>]  │\n",
              "├─────────────────────┼───────────────────┼────────────┼───────────────────┤\n",
              "│ conv2d_8 (<span style=\"color: #0087ff; text-decoration-color: #0087ff\">Conv2D</span>)   │ (<span style=\"color: #00d7ff; text-decoration-color: #00d7ff\">None</span>, <span style=\"color: #00af00; text-decoration-color: #00af00\">240</span>, <span style=\"color: #00af00; text-decoration-color: #00af00\">360</span>,  │     <span style=\"color: #00af00; text-decoration-color: #00af00\">18,464</span> │ concatenate_1[<span style=\"color: #00af00; text-decoration-color: #00af00\">0</span>]… │\n",
              "│                     │ <span style=\"color: #00af00; text-decoration-color: #00af00\">32</span>)               │            │                   │\n",
              "├─────────────────────┼───────────────────┼────────────┼───────────────────┤\n",
              "│ batch_normalizatio… │ (<span style=\"color: #00d7ff; text-decoration-color: #00d7ff\">None</span>, <span style=\"color: #00af00; text-decoration-color: #00af00\">240</span>, <span style=\"color: #00af00; text-decoration-color: #00af00\">360</span>,  │        <span style=\"color: #00af00; text-decoration-color: #00af00\">128</span> │ conv2d_8[<span style=\"color: #00af00; text-decoration-color: #00af00\">0</span>][<span style=\"color: #00af00; text-decoration-color: #00af00\">0</span>]    │\n",
              "│ (<span style=\"color: #0087ff; text-decoration-color: #0087ff\">BatchNormalizatio…</span> │ <span style=\"color: #00af00; text-decoration-color: #00af00\">32</span>)               │            │                   │\n",
              "├─────────────────────┼───────────────────┼────────────┼───────────────────┤\n",
              "│ dropout_4 (<span style=\"color: #0087ff; text-decoration-color: #0087ff\">Dropout</span>) │ (<span style=\"color: #00d7ff; text-decoration-color: #00d7ff\">None</span>, <span style=\"color: #00af00; text-decoration-color: #00af00\">240</span>, <span style=\"color: #00af00; text-decoration-color: #00af00\">360</span>,  │          <span style=\"color: #00af00; text-decoration-color: #00af00\">0</span> │ batch_normalizat… │\n",
              "│                     │ <span style=\"color: #00af00; text-decoration-color: #00af00\">32</span>)               │            │                   │\n",
              "├─────────────────────┼───────────────────┼────────────┼───────────────────┤\n",
              "│ conv2d_9 (<span style=\"color: #0087ff; text-decoration-color: #0087ff\">Conv2D</span>)   │ (<span style=\"color: #00d7ff; text-decoration-color: #00d7ff\">None</span>, <span style=\"color: #00af00; text-decoration-color: #00af00\">240</span>, <span style=\"color: #00af00; text-decoration-color: #00af00\">360</span>,  │      <span style=\"color: #00af00; text-decoration-color: #00af00\">9,248</span> │ dropout_4[<span style=\"color: #00af00; text-decoration-color: #00af00\">0</span>][<span style=\"color: #00af00; text-decoration-color: #00af00\">0</span>]   │\n",
              "│                     │ <span style=\"color: #00af00; text-decoration-color: #00af00\">32</span>)               │            │                   │\n",
              "├─────────────────────┼───────────────────┼────────────┼───────────────────┤\n",
              "│ conv2d_10 (<span style=\"color: #0087ff; text-decoration-color: #0087ff\">Conv2D</span>)  │ (<span style=\"color: #00d7ff; text-decoration-color: #00d7ff\">None</span>, <span style=\"color: #00af00; text-decoration-color: #00af00\">240</span>, <span style=\"color: #00af00; text-decoration-color: #00af00\">360</span>,  │         <span style=\"color: #00af00; text-decoration-color: #00af00\">33</span> │ conv2d_9[<span style=\"color: #00af00; text-decoration-color: #00af00\">0</span>][<span style=\"color: #00af00; text-decoration-color: #00af00\">0</span>]    │\n",
              "│                     │ <span style=\"color: #00af00; text-decoration-color: #00af00\">1</span>)                │            │                   │\n",
              "└─────────────────────┴───────────────────┴────────────┴───────────────────┘\n",
              "</pre>\n"
            ]
          },
          "metadata": {}
        },
        {
          "output_type": "display_data",
          "data": {
            "text/plain": [
              "\u001b[1m Total params: \u001b[0m\u001b[38;5;34m467,233\u001b[0m (1.78 MB)\n"
            ],
            "text/html": [
              "<pre style=\"white-space:pre;overflow-x:auto;line-height:normal;font-family:Menlo,'DejaVu Sans Mono',consolas,'Courier New',monospace\"><span style=\"font-weight: bold\"> Total params: </span><span style=\"color: #00af00; text-decoration-color: #00af00\">467,233</span> (1.78 MB)\n",
              "</pre>\n"
            ]
          },
          "metadata": {}
        },
        {
          "output_type": "display_data",
          "data": {
            "text/plain": [
              "\u001b[1m Trainable params: \u001b[0m\u001b[38;5;34m466,593\u001b[0m (1.78 MB)\n"
            ],
            "text/html": [
              "<pre style=\"white-space:pre;overflow-x:auto;line-height:normal;font-family:Menlo,'DejaVu Sans Mono',consolas,'Courier New',monospace\"><span style=\"font-weight: bold\"> Trainable params: </span><span style=\"color: #00af00; text-decoration-color: #00af00\">466,593</span> (1.78 MB)\n",
              "</pre>\n"
            ]
          },
          "metadata": {}
        },
        {
          "output_type": "display_data",
          "data": {
            "text/plain": [
              "\u001b[1m Non-trainable params: \u001b[0m\u001b[38;5;34m640\u001b[0m (2.50 KB)\n"
            ],
            "text/html": [
              "<pre style=\"white-space:pre;overflow-x:auto;line-height:normal;font-family:Menlo,'DejaVu Sans Mono',consolas,'Courier New',monospace\"><span style=\"font-weight: bold\"> Non-trainable params: </span><span style=\"color: #00af00; text-decoration-color: #00af00\">640</span> (2.50 KB)\n",
              "</pre>\n"
            ]
          },
          "metadata": {}
        }
      ],
      "source": [
        "\n",
        "from tensorflow.keras import layers, Model\n",
        "\n",
        "def build_unet_dropout(input_shape=(241,361,1)):\n",
        "    inputs = layers.Input(input_shape)\n",
        "\n",
        "    c1 = layers.Conv2D(32,3,activation='relu',padding='same')(inputs)\n",
        "    c1 = layers.BatchNormalization()(c1)\n",
        "    c1 = layers.Dropout(0.1)(c1)\n",
        "    c1 = layers.Conv2D(32,3,activation='relu',padding='same')(c1)\n",
        "    p1 = layers.MaxPooling2D()(c1)\n",
        "\n",
        "    c2 = layers.Conv2D(64,3,activation='relu',padding='same')(p1)\n",
        "    c2 = layers.BatchNormalization()(c2)\n",
        "    c2 = layers.Dropout(0.1)(c2)\n",
        "    c2 = layers.Conv2D(64,3,activation='relu',padding='same')(c2)\n",
        "    p2 = layers.MaxPooling2D()(c2)\n",
        "\n",
        "    c3 = layers.Conv2D(128,3,activation='relu',padding='same')(p2)\n",
        "    c3 = layers.BatchNormalization()(c3)\n",
        "    c3 = layers.Dropout(0.2)(c3)\n",
        "    c3 = layers.Conv2D(128,3,activation='relu',padding='same')(c3)\n",
        "\n",
        "    u4 = layers.Conv2DTranspose(64,2,strides=2,padding='same')(c3)\n",
        "    u4 = layers.concatenate([u4, c2])\n",
        "    c4 = layers.Conv2D(64,3,activation='relu',padding='same')(u4)\n",
        "    c4 = layers.BatchNormalization()(c4)\n",
        "    c4 = layers.Dropout(0.1)(c4)\n",
        "    c4 = layers.Conv2D(64,3,activation='relu',padding='same')(c4)\n",
        "\n",
        "    u5 = layers.Conv2DTranspose(32,2,strides=2,padding='same')(c4)\n",
        "    c1_crop = layers.Cropping2D(cropping=((0,1),(0,1)))(c1)\n",
        "    u5 = layers.concatenate([u5, c1_crop])\n",
        "    c5 = layers.Conv2D(32,3,activation='relu',padding='same')(u5)\n",
        "    c5 = layers.BatchNormalization()(c5)\n",
        "    c5 = layers.Dropout(0.1)(c5)\n",
        "    c5 = layers.Conv2D(32,3,activation='relu',padding='same')(c5)\n",
        "\n",
        "    outputs = layers.Conv2D(1,1,activation='sigmoid')(c5)\n",
        "    return Model(inputs, outputs)\n",
        "\n",
        "unet = build_unet_dropout((241,361,1))    # or build_unet(...) if you’re using that\n",
        "unet.compile(\n",
        "    optimizer=tf.keras.optimizers.Adam(1e-4),\n",
        "    loss='binary_crossentropy',\n",
        "    metrics=[tf.keras.metrics.MeanIoU(num_classes=2)]\n",
        ")\n",
        "unet.summary()"
      ]
    },
    {
      "cell_type": "code",
      "execution_count": null,
      "id": "1099d865",
      "metadata": {
        "colab": {
          "base_uri": "https://localhost:8080/"
        },
        "id": "1099d865",
        "outputId": "8e2e8ee3-be35-4c1c-b012-1c180f17fac9"
      },
      "outputs": [
        {
          "output_type": "stream",
          "name": "stdout",
          "text": [
            "Epoch 1/3\n",
            "\u001b[1m 39/385\u001b[0m \u001b[32m━━\u001b[0m\u001b[37m━━━━━━━━━━━━━━━━━━\u001b[0m \u001b[1m1:22:39\u001b[0m 14s/step - loss: 1.0096 - mean_io_u: 0.4949"
          ]
        }
      ],
      "source": [
        "\n",
        "from tensorflow.keras.callbacks import ReduceLROnPlateau, EarlyStopping, ModelCheckpoint\n",
        "\n",
        "callbacks = [\n",
        "    ReduceLROnPlateau(monitor='val_loss', factor=0.5, patience=3, verbose=1),\n",
        "    EarlyStopping(monitor='val_loss', patience=5, restore_best_weights=True, verbose=1),\n",
        "    ModelCheckpoint('best_unet.h5', monitor='val_loss', save_best_only=True, verbose=1)\n",
        "]\n",
        "\n",
        "history = unet.fit(\n",
        "    train_ds,\n",
        "    validation_data=val_ds,\n",
        "    epochs=3,\n",
        "    callbacks=callbacks\n",
        ")"
      ]
    },
    {
      "cell_type": "code",
      "execution_count": null,
      "id": "75193cb6",
      "metadata": {
        "id": "75193cb6"
      },
      "outputs": [],
      "source": [
        "\n",
        "import numpy as np\n",
        "from sklearn.metrics import precision_recall_curve\n",
        "\n",
        "y_val_true = np.concatenate([y.numpy().flatten() for x,y in val_ds], axis=0)\n",
        "y_val_prob = unet.predict(val_ds).flatten()\n",
        "\n",
        "prec, rec, thresh = precision_recall_curve(y_val_true, y_val_prob)\n",
        "f1_scores = 2 * (prec * rec) / (prec + rec + 1e-8)\n",
        "best_idx = np.argmax(f1_scores)\n",
        "best_thresh = thresh[best_idx]\n",
        "print(f\"Best threshold: {best_thresh:.3f}, F1: {f1_scores[best_idx]:.3f}\")"
      ]
    },
    {
      "cell_type": "code",
      "execution_count": null,
      "id": "09b918c0",
      "metadata": {
        "id": "09b918c0"
      },
      "outputs": [],
      "source": [
        "\n",
        "from sklearn.metrics import accuracy_score, f1_score, jaccard_score\n",
        "\n",
        "unet.load_weights('best_unet.h5')\n",
        "\n",
        "y_test_true = np.concatenate([y.numpy().flatten() for x,y in test_ds], axis=0)\n",
        "y_test_prob = unet.predict(test_ds).flatten()\n",
        "y_test_pred = (y_test_prob >= best_thresh).astype(np.uint8)\n",
        "\n",
        "print(\"Test Pixel Accuracy:\", accuracy_score(y_test_true, y_test_pred))\n",
        "print(\"Test F1-score:\", f1_score(y_test_true, y_test_pred))\n",
        "print(\"Test IoU:\", jaccard_score(y_test_true, y_test_pred))"
      ]
    },
    {
      "cell_type": "code",
      "source": [],
      "metadata": {
        "id": "kY-rS9s7ua-2"
      },
      "id": "kY-rS9s7ua-2",
      "execution_count": null,
      "outputs": []
    }
  ],
  "metadata": {
    "colab": {
      "provenance": [],
      "gpuType": "V28"
    },
    "language_info": {
      "name": "python"
    },
    "kernelspec": {
      "name": "python3",
      "display_name": "Python 3"
    },
    "accelerator": "TPU"
  },
  "nbformat": 4,
  "nbformat_minor": 5
}